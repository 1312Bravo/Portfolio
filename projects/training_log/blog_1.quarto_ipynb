{
  "cells": [
    {
      "cell_type": "markdown",
      "metadata": {},
      "source": [
        "---\n",
        "title: \"HRV Analysis\"\n",
        "---\n",
        "\n",
        "Some intro text here..."
      ],
      "id": "0b60cc2f"
    },
    {
      "cell_type": "code",
      "metadata": {},
      "source": [
        "print(\"Hello from Python!\")"
      ],
      "id": "55c9e2ab",
      "execution_count": null,
      "outputs": []
    },
    {
      "cell_type": "markdown",
      "metadata": {},
      "source": [
        "This is it.\n"
      ],
      "id": "1aaa0b36"
    },
    {
      "cell_type": "code",
      "metadata": {},
      "source": [
        "#| echo: false\n",
        "import matplotlib.pyplot as plt\n",
        "\n",
        "# Sample data\n",
        "x = [1, 2, 3, 4, 5]\n",
        "y = [2, 4, 6, 8, 10]\n",
        "\n",
        "# Create plot\n",
        "plt.plot(x, y, marker=\"o\")\n",
        "plt.title(\"Simple Test Plot\")\n",
        "plt.xlabel(\"X-axis\")\n",
        "plt.ylabel(\"Y-axis\")\n",
        "plt.grid(True)\n",
        "plt.show()"
      ],
      "id": "e546eefd",
      "execution_count": null,
      "outputs": []
    }
  ],
  "metadata": {
    "kernelspec": {
      "name": "python3",
      "language": "python",
      "display_name": "Python 3 (ipykernel)",
      "path": "C:\\Users\\Urh\\AppData\\Roaming\\Python\\share\\jupyter\\kernels\\python3"
    }
  },
  "nbformat": 4,
  "nbformat_minor": 5
}